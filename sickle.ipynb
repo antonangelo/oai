{
 "cells": [
  {
   "cell_type": "markdown",
   "id": "velvet-sudan",
   "metadata": {},
   "source": [
    "# Notebook to get metadata from an IR\n",
    "This notebook uses the **Sickle** library to go through the OAI interface of a standards compliant institutional repository using OAIPMH"
   ]
  },
  {
   "cell_type": "code",
   "execution_count": 1,
   "id": "passive-andrews",
   "metadata": {},
   "outputs": [],
   "source": [
    "from sickle import Sickle # OAI harvester"
   ]
  },
  {
   "cell_type": "markdown",
   "id": "acting-liechtenstein",
   "metadata": {},
   "source": [
    "the repository is the URL (inc. https://) of the IR.  The OAI endpoint can change, but on dspace is either `oai/request` or `dspace-oai/request`"
   ]
  },
  {
   "cell_type": "code",
   "execution_count": 2,
   "id": "popular-correlation",
   "metadata": {},
   "outputs": [],
   "source": [
    "repository = 'https://ir.canterbury.ac.nz'\n",
    "OAIendpoint ='/dspace-oai/request'"
   ]
  },
  {
   "cell_type": "markdown",
   "id": "widespread-airport",
   "metadata": {},
   "source": [
    "Create a sickle object "
   ]
  },
  {
   "cell_type": "code",
   "execution_count": 3,
   "id": "illegal-broad",
   "metadata": {},
   "outputs": [],
   "source": [
    "sickle = Sickle(repository+OAIendpoint)"
   ]
  },
  {
   "cell_type": "code",
   "execution_count": 4,
   "id": "traditional-pavilion",
   "metadata": {},
   "outputs": [],
   "source": [
    "records = sickle.ListRecords(metadataPrefix = 'oai_dc',ignore_deleted=True)"
   ]
  },
  {
   "cell_type": "markdown",
   "id": "compatible-philadelphia",
   "metadata": {},
   "source": [
    "**Debug / testing** Set max count to 10 for testing, and a biiiig number otherwise."
   ]
  },
  {
   "cell_type": "code",
   "execution_count": 5,
   "id": "cubic-titanium",
   "metadata": {},
   "outputs": [],
   "source": [
    "count = 0 \n",
    "maxcount = 10"
   ]
  },
  {
   "cell_type": "code",
   "execution_count": 6,
   "id": "monthly-marker",
   "metadata": {},
   "outputs": [],
   "source": [
    "resultsDict = {}\n",
    "resultsDict['results'] = [] #root of the results for the JSON output"
   ]
  },
  {
   "cell_type": "markdown",
   "id": "private-skirt",
   "metadata": {},
   "source": [
    "Uncomment the code below if you want to create a results CSV file, and the `writer.writerow(r.results)` line in the main loop"
   ]
  },
  {
   "cell_type": "code",
   "execution_count": 7,
   "id": "decreased-involvement",
   "metadata": {},
   "outputs": [
    {
     "data": {
      "text/plain": [
       "\"\\nimport csv\\nfile = open('output.csv', 'w', newline='')\\nfieldnames = ['source','title', 'creator', 'subject', 'description', 'date', 'type', 'identifier', 'language', 'relation', 'rights', 'format', 'publisher', 'contributor', 'language','relation', 'publisher']\\nwriter = csv.DictWriter(file, fieldnames=fieldnames)\\nwriter.writeheader()\\n\""
      ]
     },
     "execution_count": 7,
     "metadata": {},
     "output_type": "execute_result"
    }
   ],
   "source": [
    "'''\n",
    "import csv\n",
    "file = open('output.csv', 'w', newline='')\n",
    "fieldnames = ['source','title', 'creator', 'subject', 'description', 'date', 'type', 'identifier', 'language', 'relation', 'rights', 'format', 'publisher', 'contributor', 'language','relation', 'publisher']\n",
    "writer = csv.DictWriter(file, fieldnames=fieldnames)\n",
    "writer.writeheader()\n",
    "'''"
   ]
  },
  {
   "cell_type": "markdown",
   "id": "heated-investor",
   "metadata": {},
   "source": [
    "**Main Loop** this goes through the records, finds ones that are journal articles with 'Fields of research' in their subjects, and adds them to a dictionary"
   ]
  },
  {
   "cell_type": "code",
   "execution_count": 8,
   "id": "chubby-atmosphere",
   "metadata": {},
   "outputs": [],
   "source": [
    "for r in records:\n",
    "    if count > maxcount:\n",
    "        break\n",
    "    if 'type' in r.metadata.keys():\n",
    "\n",
    "        if (r.metadata['type'][0] is not None) and ('Article' in r.metadata['type'][0]):\n",
    "            if ('subject' in r.metadata.keys()) and (r.metadata['subject'] is not None):\n",
    "                for subjects in r.metadata['subject']:\n",
    "                    #print(subjects)\n",
    "                    if (subjects is not None) and ('Fields of Research' in subjects):\n",
    "                        # writer.writerow(r.metadata) # uncomment this if you want a CSV file - this writes each row\n",
    "                        resultsDict['results'].append(r.metadata)\n",
    "                        count = count + 1\n",
    "                        break"
   ]
  },
  {
   "cell_type": "code",
   "execution_count": 9,
   "id": "tamil-position",
   "metadata": {},
   "outputs": [],
   "source": [
    "#print(resultsDict)\n",
    "import json\n",
    "with open('data.json', 'w') as outfile:\n",
    "    json.dump(resultsDict, outfile)"
   ]
  }
 ],
 "metadata": {
  "kernelspec": {
   "display_name": "Python 3",
   "language": "python",
   "name": "python3"
  },
  "language_info": {
   "codemirror_mode": {
    "name": "ipython",
    "version": 3
   },
   "file_extension": ".py",
   "mimetype": "text/x-python",
   "name": "python",
   "nbconvert_exporter": "python",
   "pygments_lexer": "ipython3",
   "version": "3.7.3"
  }
 },
 "nbformat": 4,
 "nbformat_minor": 5
}
